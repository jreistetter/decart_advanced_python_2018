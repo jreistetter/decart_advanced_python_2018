{
 "cells": [
  {
   "cell_type": "markdown",
   "metadata": {},
   "source": [
    "# Eigenvalues and Eigenvectors\n",
    "\n",
    "The following discussion is drawn from Gilbert Strang *Linear Algebra* ???.\n",
    "\n",
    "Before we continue, we need to establish several concepts from linear algebra.\n",
    "\n",
    "### for an $m\\times n$ matrix:\n",
    "\n",
    "* The **rank** of a matrix is the number of linearly independent columns in the matrix\n",
    "* \"The **column space** of a matrix $A$ consists of all combinations of the columns of $A$.\" Another way of saying this is the column space of $A$ are all the vectors $\\mathbf{v}$  such that $A\\mathbf{x} = \\mathbf{v}$ has a solution (is consistent). Consequently $\\mathbf{v} \\in \\mathbb{R}^m$ (Why $m$?)\n",
    "* The **null space** of a matrix $A$ are all vectors $\\mathbf{x}$ such that $A\\mathbf{x}=\\mathbf{0}$. Every matrix has a null space. (What is the vector that is in the null space of every matrix?) The null space of a matrix is $x \\in \\mathbb{R}^n$. (Why $n$?)\n",
    "\n",
    "## *Eigen*\n",
    "\n",
    "Terms like **eigen function**, **eigen vector**, and **eigen value** all use the German word *eigen* which has meaning \"own\" or \"distinctive\".\n",
    "\n",
    "From calculus, the eigen function of the derivative operator ($\\frac{d}{dx}$) is the exponential function, because\n",
    "\n",
    "\\begin{equation}\n",
    "\\frac{d e^{\\lambda x}}{dx} = \\lambda e^{\\lambda x}\n",
    "\\end{equation}\n",
    "\n",
    "is simply  a scaled ($\\lambda$) version of the original function.\n",
    "\n",
    "## Eigenvectors\n",
    "\n",
    "An eigenvector of matrix $A$, is any vector $\\mathbf{e}$ such that\n",
    "\n",
    "\\begin{equation}\n",
    "A\\mathbf{e} = \\lambda \\mathbf{e}\n",
    "\\end{equation}\n",
    "\n",
    "where $\\lambda$ is a scalar value.\n",
    "\n",
    "This can be rewritten as \n",
    "\n",
    "\\begin{equation}\n",
    "\\left(A - \\mathbf{\\lambda}I\\right)\\mathbf{e}=\\mathbf{0}\n",
    "\\end{equation}\n",
    "\n",
    "where $I$ is the identity matrix (ones along the diagonal, zeros everywhere else).\n",
    "\n",
    "### Characteristic Polynomial\n",
    "\n",
    "For a $n\\times n$ matrix, the characteristic polynomial will be of order $n$.\n",
    "\n",
    "### Computing Eigenvalues and Eigenvectors\n",
    "\n",
    "1. Solve the characteristic polynomial to get the $n$ eigenvalues: $\\lambda_1, \\lambda_2, \\cdots, \\lambda_n$\n",
    "!. For each $\\lambda_i$ substitute back into $\\left(A - \\mathbf{\\lambda_i}I\\right)\\mathbf{e_i}=\\mathbf{0}$, and use elimination to solve for $\\mathbf{e_i}$.\n"
   ]
  },
  {
   "cell_type": "markdown",
   "metadata": {},
   "source": [
    "## Using Sympy for symbolic LA"
   ]
  },
  {
   "cell_type": "code",
   "execution_count": 1,
   "metadata": {},
   "outputs": [],
   "source": [
    "from sympy import *\n",
    "init_printing(use_unicode=True)"
   ]
  },
  {
   "cell_type": "code",
   "execution_count": 2,
   "metadata": {},
   "outputs": [
    {
     "data": {
      "text/latex": [
       "$$\\left[\\begin{matrix}1 & -1\\\\3 & 4\\\\0 & 2\\end{matrix}\\right]$$"
      ],
      "text/plain": [
       "⎡1  -1⎤\n",
       "⎢     ⎥\n",
       "⎢3  4 ⎥\n",
       "⎢     ⎥\n",
       "⎣0  2 ⎦"
      ]
     },
     "execution_count": 2,
     "metadata": {},
     "output_type": "execute_result"
    }
   ],
   "source": [
    "A = Matrix([[1, -1], [3, 4], [0, 2]])\n",
    "A"
   ]
  },
  {
   "cell_type": "markdown",
   "metadata": {},
   "source": [
    "## Transpose"
   ]
  },
  {
   "cell_type": "code",
   "execution_count": 3,
   "metadata": {},
   "outputs": [
    {
     "data": {
      "text/latex": [
       "$$\\left[\\begin{matrix}1 & 3 & 0\\\\-1 & 4 & 2\\end{matrix}\\right]$$"
      ],
      "text/plain": [
       "⎡1   3  0⎤\n",
       "⎢        ⎥\n",
       "⎣-1  4  2⎦"
      ]
     },
     "execution_count": 3,
     "metadata": {},
     "output_type": "execute_result"
    }
   ],
   "source": [
    "A.T"
   ]
  },
  {
   "cell_type": "code",
   "execution_count": 4,
   "metadata": {},
   "outputs": [],
   "source": [
    "M = Matrix([[1, 0, 1], [2, -1, 3], [4, 3, 2]])"
   ]
  },
  {
   "cell_type": "code",
   "execution_count": 6,
   "metadata": {},
   "outputs": [
    {
     "data": {
      "text/latex": [
       "$$\\left[\\begin{matrix}1 & 0 & 1\\\\2 & -1 & 3\\\\4 & 3 & 2\\end{matrix}\\right]$$"
      ],
      "text/plain": [
       "⎡1  0   1⎤\n",
       "⎢        ⎥\n",
       "⎢2  -1  3⎥\n",
       "⎢        ⎥\n",
       "⎣4  3   2⎦"
      ]
     },
     "execution_count": 6,
     "metadata": {},
     "output_type": "execute_result"
    }
   ],
   "source": [
    "M"
   ]
  },
  {
   "cell_type": "code",
   "execution_count": 7,
   "metadata": {},
   "outputs": [
    {
     "data": {
      "text/latex": [
       "$$\\left ( \\left[\\begin{matrix}\\frac{\\sqrt{21}}{21} & - \\frac{\\sqrt{2310}}{231} & - \\frac{\\sqrt{110}}{11}\\\\\\frac{2 \\sqrt{21}}{21} & - \\frac{41 \\sqrt{2310}}{2310} & \\frac{3 \\sqrt{110}}{110}\\\\\\frac{4 \\sqrt{21}}{21} & \\frac{23 \\sqrt{2310}}{2310} & \\frac{\\sqrt{110}}{110}\\end{matrix}\\right], \\quad \\left[\\begin{matrix}\\sqrt{21} & \\frac{10 \\sqrt{21}}{21} & \\frac{5 \\sqrt{21}}{7}\\\\0 & \\frac{\\sqrt{2310}}{21} & - \\frac{29 \\sqrt{2310}}{770}\\\\0 & 0 & \\frac{\\sqrt{110}}{110}\\end{matrix}\\right]\\right )$$"
      ],
      "text/plain": [
       "⎛⎡ √21    -√2310     -√110 ⎤  ⎡     10⋅√21    5⋅√21   ⎤⎞\n",
       "⎜⎢ ───    ───────    ──────⎥  ⎢√21  ──────    ─────   ⎥⎟\n",
       "⎜⎢  21      231        11  ⎥  ⎢       21        7     ⎥⎟\n",
       "⎜⎢                         ⎥  ⎢                       ⎥⎟\n",
       "⎜⎢2⋅√21  -41⋅√2310   3⋅√110⎥  ⎢     √2310   -29⋅√2310 ⎥⎟\n",
       "⎜⎢─────  ──────────  ──────⎥, ⎢ 0   ─────   ──────────⎥⎟\n",
       "⎜⎢  21      2310      110  ⎥  ⎢       21       770    ⎥⎟\n",
       "⎜⎢                         ⎥  ⎢                       ⎥⎟\n",
       "⎜⎢4⋅√21   23⋅√2310    √110 ⎥  ⎢                √110   ⎥⎟\n",
       "⎜⎢─────   ────────    ──── ⎥  ⎢ 0     0        ────   ⎥⎟\n",
       "⎝⎣  21      2310      110  ⎦  ⎣                110    ⎦⎠"
      ]
     },
     "execution_count": 7,
     "metadata": {},
     "output_type": "execute_result"
    }
   ],
   "source": [
    "M.QRdecomposition()"
   ]
  },
  {
   "cell_type": "code",
   "execution_count": 8,
   "metadata": {},
   "outputs": [
    {
     "data": {
      "image/png": "[encoded data removed]",
      "text/latex": [
       "$$\\left \\{ \\frac{2}{3} + \\left(- \\frac{1}{2} - \\frac{\\sqrt{3} i}{2}\\right) \\sqrt[3]{\\frac{241}{54} + \\frac{\\sqrt{36807} i}{18}} + \\frac{46}{9 \\left(- \\frac{1}{2} - \\frac{\\sqrt{3} i}{2}\\right) \\sqrt[3]{\\frac{241}{54} + \\frac{\\sqrt{36807} i}{18}}} : 1, \\quad \\frac{2}{3} + \\frac{46}{9 \\left(- \\frac{1}{2} + \\frac{\\sqrt{3} i}{2}\\right) \\sqrt[3]{\\frac{241}{54} + \\frac{\\sqrt{36807} i}{18}}} + \\left(- \\frac{1}{2} + \\frac{\\sqrt{3} i}{2}\\right) \\sqrt[3]{\\frac{241}{54} + \\frac{\\sqrt{36807} i}{18}} : 1, \\quad \\frac{2}{3} + \\frac{46}{9 \\sqrt[3]{\\frac{241}{54} + \\frac{\\sqrt{36807} i}{18}}} + \\sqrt[3]{\\frac{241}{54} + \\frac{\\sqrt{36807} i}{18}} : 1\\right \\}$$"
      ],
      "text/plain": [
       "⎧                     ________________                                        \n",
       "⎪2   ⎛  1   √3⋅ⅈ⎞    ╱ 241   √36807⋅ⅈ                     46                  \n",
       "⎪─ + ⎜- ─ - ────⎟⋅3 ╱  ─── + ────────  + ───────────────────────────────────: \n",
       "⎨3   ⎝  2    2  ⎠ ╲╱    54      18                          ________________  \n",
       "⎪                                          ⎛  1   √3⋅ⅈ⎞    ╱ 241   √36807⋅ⅈ   \n",
       "⎪                                        9⋅⎜- ─ - ────⎟⋅3 ╱  ─── + ────────   \n",
       "⎩                                          ⎝  2    2  ⎠ ╲╱    54      18      \n",
       "\n",
       "                                                              ________________\n",
       "   2                    46                   ⎛  1   √3⋅ⅈ⎞    ╱ 241   √36807⋅ⅈ \n",
       "1, ─ + ─────────────────────────────────── + ⎜- ─ + ────⎟⋅3 ╱  ─── + ──────── \n",
       "   3                      ________________   ⎝  2    2  ⎠ ╲╱    54      18    \n",
       "         ⎛  1   √3⋅ⅈ⎞    ╱ 241   √36807⋅ⅈ                                     \n",
       "       9⋅⎜- ─ + ────⎟⋅3 ╱  ─── + ────────                                     \n",
       "         ⎝  2    2  ⎠ ╲╱    54      18                                        \n",
       "\n",
       "                                      ________________   ⎫\n",
       "     2             46                ╱ 241   √36807⋅ⅈ    ⎪\n",
       ": 1, ─ + ────────────────────── + 3 ╱  ─── + ──────── : 1⎪\n",
       "     3         ________________   ╲╱    54      18       ⎬\n",
       "              ╱ 241   √36807⋅ⅈ                           ⎪\n",
       "         9⋅3 ╱  ─── + ────────                           ⎪\n",
       "           ╲╱    54      18                              ⎭"
      ]
     },
     "execution_count": 8,
     "metadata": {},
     "output_type": "execute_result"
    }
   ],
   "source": [
    "M.eigenvals()"
   ]
  },
  {
   "cell_type": "code",
   "execution_count": 9,
   "metadata": {},
   "outputs": [
    {
     "data": {
      "text/latex": [
       "$$\\left [ \\left ( \\frac{2}{3} + \\left(- \\frac{1}{2} - \\frac{\\sqrt{3} i}{2}\\right) \\sqrt[3]{\\frac{241}{54} + \\frac{\\sqrt{36807} i}{18}} + \\frac{46}{9 \\left(- \\frac{1}{2} - \\frac{\\sqrt{3} i}{2}\\right) \\sqrt[3]{\\frac{241}{54} + \\frac{\\sqrt{36807} i}{18}}}, \\quad 1, \\quad \\left [ \\left[\\begin{matrix}\\frac{1}{2 \\left(- \\frac{5}{3} - \\frac{46}{9 \\left(- \\frac{1}{2} - \\frac{\\sqrt{3} i}{2}\\right) \\sqrt[3]{\\frac{241}{54} + \\frac{\\sqrt{36807} i}{18}}} - \\left(- \\frac{1}{2} - \\frac{\\sqrt{3} i}{2}\\right) \\sqrt[3]{\\frac{241}{54} + \\frac{\\sqrt{36807} i}{18}}\\right) \\left(\\frac{1}{3} - \\frac{46}{9 \\left(- \\frac{1}{2} - \\frac{\\sqrt{3} i}{2}\\right) \\sqrt[3]{\\frac{241}{54} + \\frac{\\sqrt{36807} i}{18}}} - \\left(- \\frac{1}{2} - \\frac{\\sqrt{3} i}{2}\\right) \\sqrt[3]{\\frac{241}{54} + \\frac{\\sqrt{36807} i}{18}}\\right)} \\left(- \\left(- \\frac{5}{3} - \\frac{46}{9 \\left(- \\frac{1}{2} - \\frac{\\sqrt{3} i}{2}\\right) \\sqrt[3]{\\frac{241}{54} + \\frac{\\sqrt{36807} i}{18}}} - \\left(- \\frac{1}{2} - \\frac{\\sqrt{3} i}{2}\\right) \\sqrt[3]{\\frac{241}{54} + \\frac{\\sqrt{36807} i}{18}}\\right) \\left(1 + 3 \\left(- \\frac{1}{2} - \\frac{\\sqrt{3} i}{2}\\right) \\sqrt[3]{\\frac{241}{54} + \\frac{\\sqrt{36807} i}{18}} + \\frac{46}{3 \\left(- \\frac{1}{2} - \\frac{\\sqrt{3} i}{2}\\right) \\sqrt[3]{\\frac{241}{54} + \\frac{\\sqrt{36807} i}{18}}}\\right) - 3 \\left(- \\frac{5}{3} - \\frac{46}{9 \\left(- \\frac{1}{2} - \\frac{\\sqrt{3} i}{2}\\right) \\sqrt[3]{\\frac{241}{54} + \\frac{\\sqrt{36807} i}{18}}} - \\left(- \\frac{1}{2} - \\frac{\\sqrt{3} i}{2}\\right) \\sqrt[3]{\\frac{241}{54} + \\frac{\\sqrt{36807} i}{18}}\\right) \\left(\\frac{1}{3} - \\frac{46}{9 \\left(- \\frac{1}{2} - \\frac{\\sqrt{3} i}{2}\\right) \\sqrt[3]{\\frac{241}{54} + \\frac{\\sqrt{36807} i}{18}}} - \\left(- \\frac{1}{2} - \\frac{\\sqrt{3} i}{2}\\right) \\sqrt[3]{\\frac{241}{54} + \\frac{\\sqrt{36807} i}{18}}\\right)\\right)\\\\\\frac{1 + 3 \\left(- \\frac{1}{2} - \\frac{\\sqrt{3} i}{2}\\right) \\sqrt[3]{\\frac{241}{54} + \\frac{\\sqrt{36807} i}{18}} + \\frac{46}{3 \\left(- \\frac{1}{2} - \\frac{\\sqrt{3} i}{2}\\right) \\sqrt[3]{\\frac{241}{54} + \\frac{\\sqrt{36807} i}{18}}}}{\\left(- \\frac{5}{3} - \\frac{46}{9 \\left(- \\frac{1}{2} - \\frac{\\sqrt{3} i}{2}\\right) \\sqrt[3]{\\frac{241}{54} + \\frac{\\sqrt{36807} i}{18}}} - \\left(- \\frac{1}{2} - \\frac{\\sqrt{3} i}{2}\\right) \\sqrt[3]{\\frac{241}{54} + \\frac{\\sqrt{36807} i}{18}}\\right) \\left(\\frac{1}{3} - \\frac{46}{9 \\left(- \\frac{1}{2} - \\frac{\\sqrt{3} i}{2}\\right) \\sqrt[3]{\\frac{241}{54} + \\frac{\\sqrt{36807} i}{18}}} - \\left(- \\frac{1}{2} - \\frac{\\sqrt{3} i}{2}\\right) \\sqrt[3]{\\frac{241}{54} + \\frac{\\sqrt{36807} i}{18}}\\right)}\\\\1\\end{matrix}\\right]\\right ]\\right ), \\quad \\left ( \\frac{2}{3} + \\frac{46}{9 \\left(- \\frac{1}{2} + \\frac{\\sqrt{3} i}{2}\\right) \\sqrt[3]{\\frac{241}{54} + \\frac{\\sqrt{36807} i}{18}}} + \\left(- \\frac{1}{2} + \\frac{\\sqrt{3} i}{2}\\right) \\sqrt[3]{\\frac{241}{54} + \\frac{\\sqrt{36807} i}{18}}, \\quad 1, \\quad \\left [ \\left[\\begin{matrix}\\frac{1}{2 \\left(- \\frac{5}{3} - \\left(- \\frac{1}{2} + \\frac{\\sqrt{3} i}{2}\\right) \\sqrt[3]{\\frac{241}{54} + \\frac{\\sqrt{36807} i}{18}} - \\frac{46}{9 \\left(- \\frac{1}{2} + \\frac{\\sqrt{3} i}{2}\\right) \\sqrt[3]{\\frac{241}{54} + \\frac{\\sqrt{36807} i}{18}}}\\right) \\left(\\frac{1}{3} - \\left(- \\frac{1}{2} + \\frac{\\sqrt{3} i}{2}\\right) \\sqrt[3]{\\frac{241}{54} + \\frac{\\sqrt{36807} i}{18}} - \\frac{46}{9 \\left(- \\frac{1}{2} + \\frac{\\sqrt{3} i}{2}\\right) \\sqrt[3]{\\frac{241}{54} + \\frac{\\sqrt{36807} i}{18}}}\\right)} \\left(- \\left(- \\frac{5}{3} - \\left(- \\frac{1}{2} + \\frac{\\sqrt{3} i}{2}\\right) \\sqrt[3]{\\frac{241}{54} + \\frac{\\sqrt{36807} i}{18}} - \\frac{46}{9 \\left(- \\frac{1}{2} + \\frac{\\sqrt{3} i}{2}\\right) \\sqrt[3]{\\frac{241}{54} + \\frac{\\sqrt{36807} i}{18}}}\\right) \\left(1 + \\frac{46}{3 \\left(- \\frac{1}{2} + \\frac{\\sqrt{3} i}{2}\\right) \\sqrt[3]{\\frac{241}{54} + \\frac{\\sqrt{36807} i}{18}}} + 3 \\left(- \\frac{1}{2} + \\frac{\\sqrt{3} i}{2}\\right) \\sqrt[3]{\\frac{241}{54} + \\frac{\\sqrt{36807} i}{18}}\\right) - 3 \\left(- \\frac{5}{3} - \\left(- \\frac{1}{2} + \\frac{\\sqrt{3} i}{2}\\right) \\sqrt[3]{\\frac{241}{54} + \\frac{\\sqrt{36807} i}{18}} - \\frac{46}{9 \\left(- \\frac{1}{2} + \\frac{\\sqrt{3} i}{2}\\right) \\sqrt[3]{\\frac{241}{54} + \\frac{\\sqrt{36807} i}{18}}}\\right) \\left(\\frac{1}{3} - \\left(- \\frac{1}{2} + \\frac{\\sqrt{3} i}{2}\\right) \\sqrt[3]{\\frac{241}{54} + \\frac{\\sqrt{36807} i}{18}} - \\frac{46}{9 \\left(- \\frac{1}{2} + \\frac{\\sqrt{3} i}{2}\\right) \\sqrt[3]{\\frac{241}{54} + \\frac{\\sqrt{36807} i}{18}}}\\right)\\right)\\\\\\frac{1 + \\frac{46}{3 \\left(- \\frac{1}{2} + \\frac{\\sqrt{3} i}{2}\\right) \\sqrt[3]{\\frac{241}{54} + \\frac{\\sqrt{36807} i}{18}}} + 3 \\left(- \\frac{1}{2} + \\frac{\\sqrt{3} i}{2}\\right) \\sqrt[3]{\\frac{241}{54} + \\frac{\\sqrt{36807} i}{18}}}{\\left(- \\frac{5}{3} - \\left(- \\frac{1}{2} + \\frac{\\sqrt{3} i}{2}\\right) \\sqrt[3]{\\frac{241}{54} + \\frac{\\sqrt{36807} i}{18}} - \\frac{46}{9 \\left(- \\frac{1}{2} + \\frac{\\sqrt{3} i}{2}\\right) \\sqrt[3]{\\frac{241}{54} + \\frac{\\sqrt{36807} i}{18}}}\\right) \\left(\\frac{1}{3} - \\left(- \\frac{1}{2} + \\frac{\\sqrt{3} i}{2}\\right) \\sqrt[3]{\\frac{241}{54} + \\frac{\\sqrt{36807} i}{18}} - \\frac{46}{9 \\left(- \\frac{1}{2} + \\frac{\\sqrt{3} i}{2}\\right) \\sqrt[3]{\\frac{241}{54} + \\frac{\\sqrt{36807} i}{18}}}\\right)}\\\\1\\end{matrix}\\right]\\right ]\\right ), \\quad \\left ( \\frac{2}{3} + \\frac{46}{9 \\sqrt[3]{\\frac{241}{54} + \\frac{\\sqrt{36807} i}{18}}} + \\sqrt[3]{\\frac{241}{54} + \\frac{\\sqrt{36807} i}{18}}, \\quad 1, \\quad \\left [ \\left[\\begin{matrix}\\frac{1}{2 \\left(- \\frac{5}{3} - \\sqrt[3]{\\frac{241}{54} + \\frac{\\sqrt{36807} i}{18}} - \\frac{46}{9 \\sqrt[3]{\\frac{241}{54} + \\frac{\\sqrt{36807} i}{18}}}\\right) \\left(\\frac{1}{3} - \\sqrt[3]{\\frac{241}{54} + \\frac{\\sqrt{36807} i}{18}} - \\frac{46}{9 \\sqrt[3]{\\frac{241}{54} + \\frac{\\sqrt{36807} i}{18}}}\\right)} \\left(- 3 \\left(- \\frac{5}{3} - \\sqrt[3]{\\frac{241}{54} + \\frac{\\sqrt{36807} i}{18}} - \\frac{46}{9 \\sqrt[3]{\\frac{241}{54} + \\frac{\\sqrt{36807} i}{18}}}\\right) \\left(\\frac{1}{3} - \\sqrt[3]{\\frac{241}{54} + \\frac{\\sqrt{36807} i}{18}} - \\frac{46}{9 \\sqrt[3]{\\frac{241}{54} + \\frac{\\sqrt{36807} i}{18}}}\\right) - \\left(- \\frac{5}{3} - \\sqrt[3]{\\frac{241}{54} + \\frac{\\sqrt{36807} i}{18}} - \\frac{46}{9 \\sqrt[3]{\\frac{241}{54} + \\frac{\\sqrt{36807} i}{18}}}\\right) \\left(1 + \\frac{46}{3 \\sqrt[3]{\\frac{241}{54} + \\frac{\\sqrt{36807} i}{18}}} + 3 \\sqrt[3]{\\frac{241}{54} + \\frac{\\sqrt{36807} i}{18}}\\right)\\right)\\\\\\frac{1 + \\frac{46}{3 \\sqrt[3]{\\frac{241}{54} + \\frac{\\sqrt{36807} i}{18}}} + 3 \\sqrt[3]{\\frac{241}{54} + \\frac{\\sqrt{36807} i}{18}}}{\\left(- \\frac{5}{3} - \\sqrt[3]{\\frac{241}{54} + \\frac{\\sqrt{36807} i}{18}} - \\frac{46}{9 \\sqrt[3]{\\frac{241}{54} + \\frac{\\sqrt{36807} i}{18}}}\\right) \\left(\\frac{1}{3} - \\sqrt[3]{\\frac{241}{54} + \\frac{\\sqrt{36807} i}{18}} - \\frac{46}{9 \\sqrt[3]{\\frac{241}{54} + \\frac{\\sqrt{36807} i}{18}}}\\right)}\\\\1\\end{matrix}\\right]\\right ]\\right )\\right ]$$"
      ],
      "text/plain": [
       "⎡⎛                                                                            \n",
       "⎢⎜                                                                            \n",
       "⎢⎜                                                                            \n",
       "⎢⎜                                                                            \n",
       "⎢⎜                                                                            \n",
       "⎢⎜                                                                            \n",
       "⎢⎜                                                                            \n",
       "⎢⎜                                                                            \n",
       "⎢⎜                                                                            \n",
       "⎢⎜                                                                            \n",
       "⎢⎜                                                                            \n",
       "⎢⎜                                                                            \n",
       "⎢⎜                                                                            \n",
       "⎢⎜                                                                            \n",
       "⎢⎜                     ________________                                       \n",
       "⎢⎜2   ⎛  1   √3⋅ⅈ⎞    ╱ 241   √36807⋅ⅈ                     46                 \n",
       "⎢⎜─ + ⎜- ─ - ────⎟⋅3 ╱  ─── + ────────  + ───────────────────────────────────,\n",
       "⎢⎜3   ⎝  2    2  ⎠ ╲╱    54      18                          ________________ \n",
       "⎢⎜                                          ⎛  1   √3⋅ⅈ⎞    ╱ 241   √36807⋅ⅈ  \n",
       "⎢⎜                                        9⋅⎜- ─ - ────⎟⋅3 ╱  ─── + ────────  \n",
       "⎢⎜                                          ⎝  2    2  ⎠ ╲╱    54      18     \n",
       "⎢⎜                                                                            \n",
       "⎢⎜                                                                            \n",
       "⎢⎜                                                                            \n",
       "⎢⎜                                                                            \n",
       "⎢⎜                                                                            \n",
       "⎢⎜                                                                            \n",
       "⎢⎜                                                                            \n",
       "⎢⎜                                                                            \n",
       "⎢⎜                                                                            \n",
       "⎢⎜                                                                            \n",
       "⎢⎜                                                                            \n",
       "⎣⎝                                                                            \n",
       "\n",
       "    ⎡⎡  ⎛                                                             ________\n",
       "    ⎢⎢  ⎜  5                    46                   ⎛  1   √3⋅ⅈ⎞    ╱ 241   √\n",
       "    ⎢⎢- ⎜- ─ - ─────────────────────────────────── - ⎜- ─ - ────⎟⋅3 ╱  ─── + ─\n",
       "    ⎢⎢  ⎜  3                      ________________   ⎝  2    2  ⎠ ╲╱    54    \n",
       "    ⎢⎢  ⎜        ⎛  1   √3⋅ⅈ⎞    ╱ 241   √36807⋅ⅈ                             \n",
       "    ⎢⎢  ⎜      9⋅⎜- ─ - ────⎟⋅3 ╱  ─── + ────────                             \n",
       "    ⎢⎢  ⎝        ⎝  2    2  ⎠ ╲╱    54      18                                \n",
       "    ⎢⎢────────────────────────────────────────────────────────────────────────\n",
       "    ⎢⎢                                                                        \n",
       "    ⎢⎢                                                                        \n",
       "    ⎢⎢                                                                        \n",
       "    ⎢⎢                                                                        \n",
       "    ⎢⎢                                                                        \n",
       "    ⎢⎢                                                                        \n",
       "    ⎢⎢                                                                        \n",
       "    ⎢⎢                                                                        \n",
       " 1, ⎢⎢                                                                        \n",
       "    ⎢⎢                                                                        \n",
       "    ⎢⎢                                                                        \n",
       "    ⎢⎢                                                                        \n",
       "    ⎢⎢                                                                        \n",
       "    ⎢⎢                                                                        \n",
       "    ⎢⎢                                                                        \n",
       "    ⎢⎢                                                                        \n",
       "    ⎢⎢                                                                        \n",
       "    ⎢⎢                                                                        \n",
       "    ⎢⎢                                                                        \n",
       "    ⎢⎢                                                                        \n",
       "    ⎢⎢                                                                        \n",
       "    ⎢⎢                                                                        \n",
       "    ⎢⎢                                                                        \n",
       "    ⎢⎢                                                                        \n",
       "    ⎣⎣                                                                        \n",
       "\n",
       "________⎞ ⎛                       ________________                            \n",
       "36807⋅ⅈ ⎟ ⎜      ⎛  1   √3⋅ⅈ⎞    ╱ 241   √36807⋅ⅈ                     46      \n",
       "─────── ⎟⋅⎜1 + 3⋅⎜- ─ - ────⎟⋅3 ╱  ─── + ────────  + ─────────────────────────\n",
       "  18    ⎟ ⎜      ⎝  2    2  ⎠ ╲╱    54      18                          ______\n",
       "        ⎟ ⎜                                            ⎛  1   √3⋅ⅈ⎞    ╱ 241  \n",
       "        ⎟ ⎜                                          3⋅⎜- ─ - ────⎟⋅3 ╱  ─── +\n",
       "        ⎠ ⎝                                            ⎝  2    2  ⎠ ╲╱    54  \n",
       "──────────────────────────────────────────────────────────────────────────────\n",
       "            ⎛                                                             ____\n",
       "            ⎜  5                    46                   ⎛  1   √3⋅ⅈ⎞    ╱ 241\n",
       "          2⋅⎜- ─ - ─────────────────────────────────── - ⎜- ─ - ────⎟⋅3 ╱  ───\n",
       "            ⎜  3                      ________________   ⎝  2    2  ⎠ ╲╱    54\n",
       "            ⎜        ⎛  1   √3⋅ⅈ⎞    ╱ 241   √36807⋅ⅈ                         \n",
       "            ⎜      9⋅⎜- ─ - ────⎟⋅3 ╱  ─── + ────────                         \n",
       "            ⎝        ⎝  2    2  ⎠ ╲╱    54      18                            \n",
       "                                                                              \n",
       "                                                                          ____\n",
       "                                                         ⎛  1   √3⋅ⅈ⎞    ╱ 241\n",
       "                                                   1 + 3⋅⎜- ─ - ────⎟⋅3 ╱  ───\n",
       "                                                         ⎝  2    2  ⎠ ╲╱    54\n",
       "                                                                              \n",
       "                                                                              \n",
       "                                                                              \n",
       "           ───────────────────────────────────────────────────────────────────\n",
       "           ⎛                                                             _____\n",
       "           ⎜  5                    46                   ⎛  1   √3⋅ⅈ⎞    ╱ 241 \n",
       "           ⎜- ─ - ─────────────────────────────────── - ⎜- ─ - ────⎟⋅3 ╱  ─── \n",
       "           ⎜  3                      ________________   ⎝  2    2  ⎠ ╲╱    54 \n",
       "           ⎜        ⎛  1   √3⋅ⅈ⎞    ╱ 241   √36807⋅ⅈ                          \n",
       "           ⎜      9⋅⎜- ─ - ────⎟⋅3 ╱  ─── + ────────                          \n",
       "           ⎝        ⎝  2    2  ⎠ ╲╱    54      18                             \n",
       "                                                                              \n",
       "                                                                              \n",
       "\n",
       "          ⎞     ⎛                                                             \n",
       "          ⎟     ⎜  5                    46                   ⎛  1   √3⋅ⅈ⎞    ╱\n",
       "──────────⎟ - 3⋅⎜- ─ - ─────────────────────────────────── - ⎜- ─ - ────⎟⋅3 ╱ \n",
       "__________⎟     ⎜  3                      ________________   ⎝  2    2  ⎠ ╲╱  \n",
       " √36807⋅ⅈ ⎟     ⎜        ⎛  1   √3⋅ⅈ⎞    ╱ 241   √36807⋅ⅈ                     \n",
       " ──────── ⎟     ⎜      9⋅⎜- ─ - ────⎟⋅3 ╱  ─── + ────────                     \n",
       "    18    ⎠     ⎝        ⎝  2    2  ⎠ ╲╱    54      18                        \n",
       "──────────────────────────────────────────────────────────────────────────────\n",
       "____________⎞ ⎛                                                           ____\n",
       "   √36807⋅ⅈ ⎟ ⎜1                    46                   ⎛  1   √3⋅ⅈ⎞    ╱ 241\n",
       " + ──────── ⎟⋅⎜─ - ─────────────────────────────────── - ⎜- ─ - ────⎟⋅3 ╱  ───\n",
       "      18    ⎟ ⎜3                      ________________   ⎝  2    2  ⎠ ╲╱    54\n",
       "            ⎟ ⎜      ⎛  1   √3⋅ⅈ⎞    ╱ 241   √36807⋅ⅈ                         \n",
       "            ⎟ ⎜    9⋅⎜- ─ - ────⎟⋅3 ╱  ─── + ────────                         \n",
       "            ⎠ ⎝      ⎝  2    2  ⎠ ╲╱    54      18                            \n",
       "                                                                              \n",
       "____________                                                                  \n",
       "   √36807⋅ⅈ                     46                                            \n",
       " + ────────  + ───────────────────────────────────                            \n",
       "      18                          ________________                            \n",
       "                 ⎛  1   √3⋅ⅈ⎞    ╱ 241   √36807⋅ⅈ                             \n",
       "               3⋅⎜- ─ - ────⎟⋅3 ╱  ─── + ────────                             \n",
       "                 ⎝  2    2  ⎠ ╲╱    54      18                                \n",
       "──────────────────────────────────────────────────────────────────────────────\n",
       "___________⎞ ⎛                                                           _____\n",
       "  √36807⋅ⅈ ⎟ ⎜1                    46                   ⎛  1   √3⋅ⅈ⎞    ╱ 241 \n",
       "+ ──────── ⎟⋅⎜─ - ─────────────────────────────────── - ⎜- ─ - ────⎟⋅3 ╱  ─── \n",
       "     18    ⎟ ⎜3                      ________________   ⎝  2    2  ⎠ ╲╱    54 \n",
       "           ⎟ ⎜      ⎛  1   √3⋅ⅈ⎞    ╱ 241   √36807⋅ⅈ                          \n",
       "           ⎟ ⎜    9⋅⎜- ─ - ────⎟⋅3 ╱  ─── + ────────                          \n",
       "           ⎠ ⎝      ⎝  2    2  ⎠ ╲╱    54      18                             \n",
       "                                                                              \n",
       "           1                                                                  \n",
       "\n",
       "________________⎞ ⎛                                                           \n",
       " 241   √36807⋅ⅈ ⎟ ⎜1                    46                   ⎛  1   √3⋅ⅈ⎞    ╱\n",
       " ─── + ──────── ⎟⋅⎜─ - ─────────────────────────────────── - ⎜- ─ - ────⎟⋅3 ╱ \n",
       "  54      18    ⎟ ⎜3                      ________________   ⎝  2    2  ⎠ ╲╱  \n",
       "                ⎟ ⎜      ⎛  1   √3⋅ⅈ⎞    ╱ 241   √36807⋅ⅈ                     \n",
       "                ⎟ ⎜    9⋅⎜- ─ - ────⎟⋅3 ╱  ─── + ────────                     \n",
       "                ⎠ ⎝      ⎝  2    2  ⎠ ╲╱    54      18                        \n",
       "──────────────────────────────────────────────────────────────────────────────\n",
       "____________⎞                                                                 \n",
       "   √36807⋅ⅈ ⎟                                                                 \n",
       " + ──────── ⎟                                                                 \n",
       "      18    ⎟                                                                 \n",
       "            ⎟                                                                 \n",
       "            ⎟                                                                 \n",
       "            ⎠                                                                 \n",
       "                                                                              \n",
       "                                                                              \n",
       "                                                                              \n",
       "                                                                              \n",
       "                                                                              \n",
       "                                                                              \n",
       "                                                                              \n",
       "                                                                              \n",
       "────────────                                                                  \n",
       "___________⎞                                                                  \n",
       "  √36807⋅ⅈ ⎟                                                                  \n",
       "+ ──────── ⎟                                                                  \n",
       "     18    ⎟                                                                  \n",
       "           ⎟                                                                  \n",
       "           ⎟                                                                  \n",
       "           ⎠                                                                  \n",
       "                                                                              \n",
       "                                                                              \n",
       "\n",
       "________________⎞⎤⎤⎞  ⎛                                                       \n",
       " 241   √36807⋅ⅈ ⎟⎥⎥⎟  ⎜                                                       \n",
       " ─── + ──────── ⎟⎥⎥⎟  ⎜                                                       \n",
       "  54      18    ⎟⎥⎥⎟  ⎜                                                       \n",
       "                ⎟⎥⎥⎟  ⎜                                                       \n",
       "                ⎟⎥⎥⎟  ⎜                                                       \n",
       "                ⎠⎥⎥⎟  ⎜                                                       \n",
       "─────────────────⎥⎥⎟  ⎜                                                       \n",
       "                 ⎥⎥⎟  ⎜                                                       \n",
       "                 ⎥⎥⎟  ⎜                                                       \n",
       "                 ⎥⎥⎟  ⎜                                                       \n",
       "                 ⎥⎥⎟  ⎜                                                       \n",
       "                 ⎥⎥⎟  ⎜                                                       \n",
       "                 ⎥⎥⎟  ⎜                                                       \n",
       "                 ⎥⎥⎟  ⎜                                                       \n",
       "                 ⎥⎥⎟  ⎜2                    46                   ⎛  1   √3⋅ⅈ⎞ \n",
       "                 ⎥⎥⎟, ⎜─ + ─────────────────────────────────── + ⎜- ─ + ────⎟⋅\n",
       "                 ⎥⎥⎟  ⎜3                      ________________   ⎝  2    2  ⎠ \n",
       "                 ⎥⎥⎟  ⎜      ⎛  1   √3⋅ⅈ⎞    ╱ 241   √36807⋅ⅈ                 \n",
       "                 ⎥⎥⎟  ⎜    9⋅⎜- ─ + ────⎟⋅3 ╱  ─── + ────────                 \n",
       "                 ⎥⎥⎟  ⎜      ⎝  2    2  ⎠ ╲╱    54      18                    \n",
       "                 ⎥⎥⎟  ⎜                                                       \n",
       "                 ⎥⎥⎟  ⎜                                                       \n",
       "                 ⎥⎥⎟  ⎜                                                       \n",
       "                 ⎥⎥⎟  ⎜                                                       \n",
       "                 ⎥⎥⎟  ⎜                                                       \n",
       "                 ⎥⎥⎟  ⎜                                                       \n",
       "                 ⎥⎥⎟  ⎜                                                       \n",
       "                 ⎥⎥⎟  ⎜                                                       \n",
       "                 ⎥⎥⎟  ⎜                                                       \n",
       "                 ⎥⎥⎟  ⎜                                                       \n",
       "                 ⎥⎥⎟  ⎜                                                       \n",
       "                 ⎦⎦⎠  ⎝                                                       \n",
       "\n",
       "                         ⎡⎡  ⎛                       ________________         \n",
       "                         ⎢⎢  ⎜  5   ⎛  1   √3⋅ⅈ⎞    ╱ 241   √36807⋅ⅈ          \n",
       "                         ⎢⎢- ⎜- ─ - ⎜- ─ + ────⎟⋅3 ╱  ─── + ────────  - ──────\n",
       "                         ⎢⎢  ⎜  3   ⎝  2    2  ⎠ ╲╱    54      18             \n",
       "                         ⎢⎢  ⎜                                            ⎛  1\n",
       "                         ⎢⎢  ⎜                                          9⋅⎜- ─\n",
       "                         ⎢⎢  ⎝                                            ⎝  2\n",
       "                         ⎢⎢───────────────────────────────────────────────────\n",
       "                         ⎢⎢                                                   \n",
       "                         ⎢⎢                                                   \n",
       "                         ⎢⎢                                                   \n",
       "                         ⎢⎢                                                   \n",
       "                         ⎢⎢                                                   \n",
       "                         ⎢⎢                                                   \n",
       "    ________________     ⎢⎢                                                   \n",
       "   ╱ 241   √36807⋅ⅈ      ⎢⎢                                                   \n",
       "3 ╱  ─── + ──────── , 1, ⎢⎢                                                   \n",
       "╲╱    54      18         ⎢⎢                                                   \n",
       "                         ⎢⎢                                                   \n",
       "                         ⎢⎢                                                   \n",
       "                         ⎢⎢                                                   \n",
       "                         ⎢⎢                                                   \n",
       "                         ⎢⎢                                                   \n",
       "                         ⎢⎢                                                   \n",
       "                         ⎢⎢                                                   \n",
       "                         ⎢⎢                                                   \n",
       "                         ⎢⎢                                                   \n",
       "                         ⎢⎢                                                   \n",
       "                         ⎢⎢                                                   \n",
       "                         ⎢⎢                                                   \n",
       "                         ⎢⎢                                                   \n",
       "                         ⎢⎢                                                   \n",
       "                         ⎣⎣                                                   \n",
       "\n",
       "                             ⎞ ⎛                                              \n",
       "           46                ⎟ ⎜                     46                     ⎛ \n",
       "─────────────────────────────⎟⋅⎜1 + ─────────────────────────────────── + 3⋅⎜-\n",
       "             ________________⎟ ⎜                       ________________     ⎝ \n",
       "   √3⋅ⅈ⎞    ╱ 241   √36807⋅ⅈ ⎟ ⎜      ⎛  1   √3⋅ⅈ⎞    ╱ 241   √36807⋅ⅈ        \n",
       " + ────⎟⋅3 ╱  ─── + ──────── ⎟ ⎜    3⋅⎜- ─ + ────⎟⋅3 ╱  ─── + ────────        \n",
       "    2  ⎠ ╲╱    54      18    ⎠ ⎝      ⎝  2    2  ⎠ ╲╱    54      18           \n",
       "──────────────────────────────────────────────────────────────────────────────\n",
       "                                 ⎛                       ________________     \n",
       "                                 ⎜  5   ⎛  1   √3⋅ⅈ⎞    ╱ 241   √36807⋅ⅈ      \n",
       "                               2⋅⎜- ─ - ⎜- ─ + ────⎟⋅3 ╱  ─── + ────────  - ──\n",
       "                                 ⎜  3   ⎝  2    2  ⎠ ╲╱    54      18         \n",
       "                                 ⎜                                            \n",
       "                                 ⎜                                          9⋅\n",
       "                                 ⎝                                            \n",
       "                                                                              \n",
       "                                                                              \n",
       "                                                                              \n",
       "                                                                        1 + ──\n",
       "                                                                              \n",
       "                                                                              \n",
       "                                                                            3⋅\n",
       "                                                                              \n",
       "                                ──────────────────────────────────────────────\n",
       "                                ⎛                       ________________      \n",
       "                                ⎜  5   ⎛  1   √3⋅ⅈ⎞    ╱ 241   √36807⋅ⅈ       \n",
       "                                ⎜- ─ - ⎜- ─ + ────⎟⋅3 ╱  ─── + ────────  - ───\n",
       "                                ⎜  3   ⎝  2    2  ⎠ ╲╱    54      18          \n",
       "                                ⎜                                            ⎛\n",
       "                                ⎜                                          9⋅⎜\n",
       "                                ⎝                                            ⎝\n",
       "                                                                              \n",
       "                                                                              \n",
       "\n",
       "               ________________⎞     ⎛                       ________________ \n",
       " 1   √3⋅ⅈ⎞    ╱ 241   √36807⋅ⅈ ⎟     ⎜  5   ⎛  1   √3⋅ⅈ⎞    ╱ 241   √36807⋅ⅈ  \n",
       " ─ + ────⎟⋅3 ╱  ─── + ──────── ⎟ - 3⋅⎜- ─ - ⎜- ─ + ────⎟⋅3 ╱  ─── + ────────  \n",
       " 2    2  ⎠ ╲╱    54      18    ⎟     ⎜  3   ⎝  2    2  ⎠ ╲╱    54      18     \n",
       "                               ⎟     ⎜                                        \n",
       "                               ⎟     ⎜                                        \n",
       "                               ⎠     ⎝                                        \n",
       "──────────────────────────────────────────────────────────────────────────────\n",
       "                                 ⎞ ⎛                     ________________     \n",
       "               46                ⎟ ⎜1   ⎛  1   √3⋅ⅈ⎞    ╱ 241   √36807⋅ⅈ      \n",
       "─────────────────────────────────⎟⋅⎜─ - ⎜- ─ + ────⎟⋅3 ╱  ─── + ────────  - ──\n",
       "                 ________________⎟ ⎜3   ⎝  2    2  ⎠ ╲╱    54      18         \n",
       "⎛  1   √3⋅ⅈ⎞    ╱ 241   √36807⋅ⅈ ⎟ ⎜                                          \n",
       "⎜- ─ + ────⎟⋅3 ╱  ─── + ──────── ⎟ ⎜                                        9⋅\n",
       "⎝  2    2  ⎠ ╲╱    54      18    ⎠ ⎝                                          \n",
       "                                                                              \n",
       "                                                       ________________       \n",
       "               46                     ⎛  1   √3⋅ⅈ⎞    ╱ 241   √36807⋅ⅈ        \n",
       "───────────────────────────────── + 3⋅⎜- ─ + ────⎟⋅3 ╱  ─── + ────────        \n",
       "                 ________________     ⎝  2    2  ⎠ ╲╱    54      18           \n",
       "⎛  1   √3⋅ⅈ⎞    ╱ 241   √36807⋅ⅈ                                              \n",
       "⎜- ─ + ────⎟⋅3 ╱  ─── + ────────                                              \n",
       "⎝  2    2  ⎠ ╲╱    54      18                                                 \n",
       "──────────────────────────────────────────────────────────────────────────────\n",
       "                                ⎞ ⎛                     ________________      \n",
       "              46                ⎟ ⎜1   ⎛  1   √3⋅ⅈ⎞    ╱ 241   √36807⋅ⅈ       \n",
       "────────────────────────────────⎟⋅⎜─ - ⎜- ─ + ────⎟⋅3 ╱  ─── + ────────  - ───\n",
       "                ________________⎟ ⎜3   ⎝  2    2  ⎠ ╲╱    54      18          \n",
       "  1   √3⋅ⅈ⎞    ╱ 241   √36807⋅ⅈ ⎟ ⎜                                          ⎛\n",
       "- ─ + ────⎟⋅3 ╱  ─── + ──────── ⎟ ⎜                                        9⋅⎜\n",
       "  2    2  ⎠ ╲╱    54      18    ⎠ ⎝                                          ⎝\n",
       "                                                                              \n",
       "                                1                                             \n",
       "\n",
       "                                     ⎞ ⎛                     ________________ \n",
       "                   46                ⎟ ⎜1   ⎛  1   √3⋅ⅈ⎞    ╱ 241   √36807⋅ⅈ  \n",
       "- ───────────────────────────────────⎟⋅⎜─ - ⎜- ─ + ────⎟⋅3 ╱  ─── + ────────  \n",
       "                     ________________⎟ ⎜3   ⎝  2    2  ⎠ ╲╱    54      18     \n",
       "    ⎛  1   √3⋅ⅈ⎞    ╱ 241   √36807⋅ⅈ ⎟ ⎜                                      \n",
       "  9⋅⎜- ─ + ────⎟⋅3 ╱  ─── + ──────── ⎟ ⎜                                      \n",
       "    ⎝  2    2  ⎠ ╲╱    54      18    ⎠ ⎝                                      \n",
       "──────────────────────────────────────────────────────────────────────────────\n",
       "                                 ⎞                                            \n",
       "               46                ⎟                                            \n",
       "─────────────────────────────────⎟                                            \n",
       "                 ________________⎟                                            \n",
       "⎛  1   √3⋅ⅈ⎞    ╱ 241   √36807⋅ⅈ ⎟                                            \n",
       "⎜- ─ + ────⎟⋅3 ╱  ─── + ──────── ⎟                                            \n",
       "⎝  2    2  ⎠ ╲╱    54      18    ⎠                                            \n",
       "                                                                              \n",
       "                                                                              \n",
       "                                                                              \n",
       "                                                                              \n",
       "                                                                              \n",
       "                                                                              \n",
       "                                                                              \n",
       "                                                                              \n",
       "─────────────────────────────────                                             \n",
       "                                ⎞                                             \n",
       "              46                ⎟                                             \n",
       "────────────────────────────────⎟                                             \n",
       "                ________________⎟                                             \n",
       "  1   √3⋅ⅈ⎞    ╱ 241   √36807⋅ⅈ ⎟                                             \n",
       "- ─ + ────⎟⋅3 ╱  ─── + ──────── ⎟                                             \n",
       "  2    2  ⎠ ╲╱    54      18    ⎠                                             \n",
       "                                                                              \n",
       "                                                                              \n",
       "\n",
       "                                     ⎞⎤⎤⎞  ⎛                                  \n",
       "                   46                ⎟⎥⎥⎟  ⎜                                  \n",
       "- ───────────────────────────────────⎟⎥⎥⎟  ⎜                                  \n",
       "                     ________________⎟⎥⎥⎟  ⎜                                  \n",
       "    ⎛  1   √3⋅ⅈ⎞    ╱ 241   √36807⋅ⅈ ⎟⎥⎥⎟  ⎜                                  \n",
       "  9⋅⎜- ─ + ────⎟⋅3 ╱  ─── + ──────── ⎟⎥⎥⎟  ⎜                                  \n",
       "    ⎝  2    2  ⎠ ╲╱    54      18    ⎠⎥⎥⎟  ⎜                                  \n",
       "──────────────────────────────────────⎥⎥⎟  ⎜                                  \n",
       "                                      ⎥⎥⎟  ⎜                                  \n",
       "                                      ⎥⎥⎟  ⎜                                  \n",
       "                                      ⎥⎥⎟  ⎜                                  \n",
       "                                      ⎥⎥⎟  ⎜                                  \n",
       "                                      ⎥⎥⎟  ⎜                                  \n",
       "                                      ⎥⎥⎟  ⎜                                  \n",
       "                                      ⎥⎥⎟  ⎜                                 _\n",
       "                                      ⎥⎥⎟  ⎜2             46                ╱ \n",
       "                                      ⎥⎥⎟, ⎜─ + ────────────────────── + 3 ╱  \n",
       "                                      ⎥⎥⎟  ⎜3         ________________   ╲╱   \n",
       "                                      ⎥⎥⎟  ⎜         ╱ 241   √36807⋅ⅈ         \n",
       "                                      ⎥⎥⎟  ⎜    9⋅3 ╱  ─── + ────────         \n",
       "                                      ⎥⎥⎟  ⎜      ╲╱    54      18            \n",
       "                                      ⎥⎥⎟  ⎜                                  \n",
       "                                      ⎥⎥⎟  ⎜                                  \n",
       "                                      ⎥⎥⎟  ⎜                                  \n",
       "                                      ⎥⎥⎟  ⎜                                  \n",
       "                                      ⎥⎥⎟  ⎜                                  \n",
       "                                      ⎥⎥⎟  ⎜                                  \n",
       "                                      ⎥⎥⎟  ⎜                                  \n",
       "                                      ⎥⎥⎟  ⎜                                  \n",
       "                                      ⎥⎥⎟  ⎜                                  \n",
       "                                      ⎥⎥⎟  ⎜                                  \n",
       "                                      ⎥⎥⎟  ⎜                                  \n",
       "                                      ⎦⎦⎠  ⎝                                  \n",
       "\n",
       "                    ⎡⎡    ⎛          ________________                         \n",
       "                    ⎢⎢    ⎜  5      ╱ 241   √36807⋅ⅈ              46          \n",
       "                    ⎢⎢- 3⋅⎜- ─ - 3 ╱  ─── + ────────  - ──────────────────────\n",
       "                    ⎢⎢    ⎜  3   ╲╱    54      18             ________________\n",
       "                    ⎢⎢    ⎜                                  ╱ 241   √36807⋅ⅈ \n",
       "                    ⎢⎢    ⎜                             9⋅3 ╱  ─── + ──────── \n",
       "                    ⎢⎢    ⎝                               ╲╱    54      18    \n",
       "                    ⎢⎢────────────────────────────────────────────────────────\n",
       "                    ⎢⎢                                                        \n",
       "                    ⎢⎢                                                        \n",
       "                    ⎢⎢                                                        \n",
       "                    ⎢⎢                                                        \n",
       "                    ⎢⎢                                                        \n",
       "                    ⎢⎢                                                        \n",
       "_______________     ⎢⎢                                                        \n",
       "241   √36807⋅ⅈ      ⎢⎢                                                        \n",
       "─── + ──────── , 1, ⎢⎢                                                        \n",
       " 54      18         ⎢⎢                                                        \n",
       "                    ⎢⎢                                                        \n",
       "                    ⎢⎢                                                        \n",
       "                    ⎢⎢                                                        \n",
       "                    ⎢⎢                                                        \n",
       "                    ⎢⎢                                                        \n",
       "                    ⎢⎢                                                        \n",
       "                    ⎢⎢                                                        \n",
       "                    ⎢⎢                                                        \n",
       "                    ⎢⎢                                                        \n",
       "                    ⎢⎢                                                        \n",
       "                    ⎢⎢                                                        \n",
       "                    ⎢⎢                                                        \n",
       "                    ⎢⎢                                                        \n",
       "                    ⎢⎢                                                        \n",
       "                    ⎣⎣                                                        \n",
       "\n",
       "⎞ ⎛        ________________                         ⎞   ⎛          ___________\n",
       "⎟ ⎜1      ╱ 241   √36807⋅ⅈ              46          ⎟   ⎜  5      ╱ 241   √368\n",
       "⎟⋅⎜─ - 3 ╱  ─── + ────────  - ──────────────────────⎟ - ⎜- ─ - 3 ╱  ─── + ────\n",
       "⎟ ⎜3   ╲╱    54      18             ________________⎟   ⎜  3   ╲╱    54      1\n",
       "⎟ ⎜                                ╱ 241   √36807⋅ⅈ ⎟   ⎜                     \n",
       "⎟ ⎜                           9⋅3 ╱  ─── + ──────── ⎟   ⎜                     \n",
       "⎠ ⎝                             ╲╱    54      18    ⎠   ⎝                     \n",
       "──────────────────────────────────────────────────────────────────────────────\n",
       "  ⎛          ________________                         ⎞ ⎛        _____________\n",
       "  ⎜  5      ╱ 241   √36807⋅ⅈ              46          ⎟ ⎜1      ╱ 241   √36807\n",
       "2⋅⎜- ─ - 3 ╱  ─── + ────────  - ──────────────────────⎟⋅⎜─ - 3 ╱  ─── + ──────\n",
       "  ⎜  3   ╲╱    54      18             ________________⎟ ⎜3   ╲╱    54      18 \n",
       "  ⎜                                  ╱ 241   √36807⋅ⅈ ⎟ ⎜                     \n",
       "  ⎜                             9⋅3 ╱  ─── + ──────── ⎟ ⎜                     \n",
       "  ⎝                               ╲╱    54      18    ⎠ ⎝                     \n",
       "                                                                              \n",
       "                                                               _______________\n",
       "                                          46                  ╱ 241   √36807⋅ⅈ\n",
       "                            1 + ────────────────────── + 3⋅3 ╱  ─── + ────────\n",
       "                                      ________________     ╲╱    54      18   \n",
       "                                     ╱ 241   √36807⋅ⅈ                         \n",
       "                                3⋅3 ╱  ─── + ────────                         \n",
       "                                  ╲╱    54      18                            \n",
       " ─────────────────────────────────────────────────────────────────────────────\n",
       " ⎛          ________________                         ⎞ ⎛        ______________\n",
       " ⎜  5      ╱ 241   √36807⋅ⅈ              46          ⎟ ⎜1      ╱ 241   √36807⋅\n",
       " ⎜- ─ - 3 ╱  ─── + ────────  - ──────────────────────⎟⋅⎜─ - 3 ╱  ─── + ───────\n",
       " ⎜  3   ╲╱    54      18             ________________⎟ ⎜3   ╲╱    54      18  \n",
       " ⎜                                  ╱ 241   √36807⋅ⅈ ⎟ ⎜                      \n",
       " ⎜                             9⋅3 ╱  ─── + ──────── ⎟ ⎜                      \n",
       " ⎝                               ╲╱    54      18    ⎠ ⎝                      \n",
       "                                                                              \n",
       "                                                     1                        \n",
       "\n",
       "_____                         ⎞ ⎛                                   __________\n",
       "07⋅ⅈ              46          ⎟ ⎜              46                  ╱ 241   √36\n",
       "────  - ──────────────────────⎟⋅⎜1 + ────────────────────── + 3⋅3 ╱  ─── + ───\n",
       "8             ________________⎟ ⎜          ________________     ╲╱    54      \n",
       "             ╱ 241   √36807⋅ⅈ ⎟ ⎜         ╱ 241   √36807⋅ⅈ                    \n",
       "        9⋅3 ╱  ─── + ──────── ⎟ ⎜    3⋅3 ╱  ─── + ────────                    \n",
       "          ╲╱    54      18    ⎠ ⎝      ╲╱    54      18                       \n",
       "──────────────────────────────────────────────────────────────────────────────\n",
       "___                         ⎞                                                 \n",
       "⋅ⅈ              46          ⎟                                                 \n",
       "──  - ──────────────────────⎟                                                 \n",
       "            ________________⎟                                                 \n",
       "           ╱ 241   √36807⋅ⅈ ⎟                                                 \n",
       "      9⋅3 ╱  ─── + ──────── ⎟                                                 \n",
       "        ╲╱    54      18    ⎠                                                 \n",
       "                                                                              \n",
       "_                                                                             \n",
       "                                                                              \n",
       "                                                                              \n",
       "                                                                              \n",
       "                                                                              \n",
       "                                                                              \n",
       "                                                                              \n",
       "────────────────────────────                                                  \n",
       "__                         ⎞                                                  \n",
       "ⅈ              46          ⎟                                                  \n",
       "─  - ──────────────────────⎟                                                  \n",
       "           ________________⎟                                                  \n",
       "          ╱ 241   √36807⋅ⅈ ⎟                                                  \n",
       "     9⋅3 ╱  ─── + ──────── ⎟                                                  \n",
       "       ╲╱    54      18    ⎠                                                  \n",
       "                                                                              \n",
       "                                                                              \n",
       "\n",
       "______⎞⎤⎤⎞⎤\n",
       "807⋅ⅈ ⎟⎥⎥⎟⎥\n",
       "───── ⎟⎥⎥⎟⎥\n",
       "18    ⎟⎥⎥⎟⎥\n",
       "      ⎟⎥⎥⎟⎥\n",
       "      ⎟⎥⎥⎟⎥\n",
       "      ⎠⎥⎥⎟⎥\n",
       "───────⎥⎥⎟⎥\n",
       "       ⎥⎥⎟⎥\n",
       "       ⎥⎥⎟⎥\n",
       "       ⎥⎥⎟⎥\n",
       "       ⎥⎥⎟⎥\n",
       "       ⎥⎥⎟⎥\n",
       "       ⎥⎥⎟⎥\n",
       "       ⎥⎥⎟⎥\n",
       "       ⎥⎥⎟⎥\n",
       "       ⎥⎥⎟⎥\n",
       "       ⎥⎥⎟⎥\n",
       "       ⎥⎥⎟⎥\n",
       "       ⎥⎥⎟⎥\n",
       "       ⎥⎥⎟⎥\n",
       "       ⎥⎥⎟⎥\n",
       "       ⎥⎥⎟⎥\n",
       "       ⎥⎥⎟⎥\n",
       "       ⎥⎥⎟⎥\n",
       "       ⎥⎥⎟⎥\n",
       "       ⎥⎥⎟⎥\n",
       "       ⎥⎥⎟⎥\n",
       "       ⎥⎥⎟⎥\n",
       "       ⎥⎥⎟⎥\n",
       "       ⎥⎥⎟⎥\n",
       "       ⎥⎥⎟⎥\n",
       "       ⎦⎦⎠⎦"
      ]
     },
     "execution_count": 9,
     "metadata": {},
     "output_type": "execute_result"
    }
   ],
   "source": [
    "M.eigenvects()"
   ]
  },
  {
   "cell_type": "markdown",
   "metadata": {},
   "source": [
    "## Determinant"
   ]
  },
  {
   "cell_type": "code",
   "execution_count": 10,
   "metadata": {},
   "outputs": [
    {
     "data": {
      "image/png": "[encoded data removed]",
      "text/latex": [
       "$$-1$$"
      ],
      "text/plain": [
       "-1"
      ]
     },
     "execution_count": 10,
     "metadata": {},
     "output_type": "execute_result"
    }
   ],
   "source": [
    "M.det()"
   ]
  },
  {
   "cell_type": "code",
   "execution_count": 11,
   "metadata": {},
   "outputs": [
    {
     "data": {
      "text/latex": [
       "$$\\left[\\begin{matrix}1 & 0 & 1 & 3\\\\2 & 3 & 4 & 7\\\\-1 & -3 & -3 & -4\\end{matrix}\\right]$$"
      ],
      "text/plain": [
       "⎡1   0   1   3 ⎤\n",
       "⎢              ⎥\n",
       "⎢2   3   4   7 ⎥\n",
       "⎢              ⎥\n",
       "⎣-1  -3  -3  -4⎦"
      ]
     },
     "execution_count": 11,
     "metadata": {},
     "output_type": "execute_result"
    }
   ],
   "source": [
    "M = Matrix([[1, 0, 1, 3], [2, 3, 4, 7], [-1, -3, -3, -4]])\n",
    "M"
   ]
  },
  {
   "cell_type": "code",
   "execution_count": 12,
   "metadata": {},
   "outputs": [
    {
     "data": {
      "image/png": "[encoded data removed]",
      "text/latex": [
       "$$\\left [ \\sqrt{\\sqrt{3457} + 62}, \\quad \\sqrt{- \\sqrt{3457} + 62}, \\quad 0, \\quad 0\\right ]$$"
      ],
      "text/plain": [
       "⎡  ____________    _____________      ⎤\n",
       "⎣╲╱ √3457 + 62 , ╲╱ -√3457 + 62 , 0, 0⎦"
      ]
     },
     "execution_count": 12,
     "metadata": {},
     "output_type": "execute_result"
    }
   ],
   "source": [
    "M.singular_values()"
   ]
  },
  {
   "cell_type": "code",
   "execution_count": 13,
   "metadata": {},
   "outputs": [
    {
     "data": {
      "text/latex": [
       "$$\\left [ \\left[\\begin{matrix}1\\\\2\\\\-1\\end{matrix}\\right], \\quad \\left[\\begin{matrix}0\\\\3\\\\-3\\end{matrix}\\right]\\right ]$$"
      ],
      "text/plain": [
       "⎡⎡1 ⎤  ⎡0 ⎤⎤\n",
       "⎢⎢  ⎥  ⎢  ⎥⎥\n",
       "⎢⎢2 ⎥, ⎢3 ⎥⎥\n",
       "⎢⎢  ⎥  ⎢  ⎥⎥\n",
       "⎣⎣-1⎦  ⎣-3⎦⎦"
      ]
     },
     "execution_count": 13,
     "metadata": {},
     "output_type": "execute_result"
    }
   ],
   "source": [
    "M.columnspace()"
   ]
  },
  {
   "cell_type": "code",
   "execution_count": 14,
   "metadata": {},
   "outputs": [
    {
     "data": {
      "text/latex": [
       "$$\\left [ \\left[\\begin{matrix}-1\\\\- \\frac{2}{3}\\\\1\\\\0\\end{matrix}\\right], \\quad \\left[\\begin{matrix}-3\\\\- \\frac{1}{3}\\\\0\\\\1\\end{matrix}\\right]\\right ]$$"
      ],
      "text/plain": [
       "⎡⎡ -1 ⎤  ⎡ -3 ⎤⎤\n",
       "⎢⎢    ⎥  ⎢    ⎥⎥\n",
       "⎢⎢-2/3⎥  ⎢-1/3⎥⎥\n",
       "⎢⎢    ⎥, ⎢    ⎥⎥\n",
       "⎢⎢ 1  ⎥  ⎢ 0  ⎥⎥\n",
       "⎢⎢    ⎥  ⎢    ⎥⎥\n",
       "⎣⎣ 0  ⎦  ⎣ 1  ⎦⎦"
      ]
     },
     "execution_count": 14,
     "metadata": {},
     "output_type": "execute_result"
    }
   ],
   "source": [
    "M.nullspace()"
   ]
  },
  {
   "cell_type": "code",
   "execution_count": 15,
   "metadata": {},
   "outputs": [],
   "source": [
    "a,b,c,d,lmbd = symbols(\"a b c d lmbd\")"
   ]
  },
  {
   "cell_type": "code",
   "execution_count": 16,
   "metadata": {},
   "outputs": [],
   "source": [
    "A = Matrix([[a,b],[c,d]])"
   ]
  },
  {
   "cell_type": "code",
   "execution_count": 17,
   "metadata": {},
   "outputs": [],
   "source": [
    "B = A-lmbd*eye(2)"
   ]
  },
  {
   "cell_type": "code",
   "execution_count": 18,
   "metadata": {},
   "outputs": [
    {
     "data": {
      "image/png": "[encoded data removed]",
      "text/latex": [
       "$$- b c + \\left(a - lmbd\\right) \\left(d - lmbd\\right)$$"
      ],
      "text/plain": [
       "-b⋅c + (a - lmbd)⋅(d - lmbd)"
      ]
     },
     "execution_count": 18,
     "metadata": {},
     "output_type": "execute_result"
    }
   ],
   "source": [
    "bd = B.det()\n",
    "bd"
   ]
  },
  {
   "cell_type": "code",
   "execution_count": 19,
   "metadata": {},
   "outputs": [
    {
     "data": {
      "image/png": "[encoded data removed]",
      "text/latex": [
       "$$\\left [ \\frac{a}{2} + \\frac{d}{2} - \\frac{1}{2} \\sqrt{a^{2} - 2 a d + 4 b c + d^{2}}, \\quad \\frac{a}{2} + \\frac{d}{2} + \\frac{1}{2} \\sqrt{a^{2} - 2 a d + 4 b c + d^{2}}\\right ]$$"
      ],
      "text/plain": [
       "⎡           _________________________             _________________________⎤\n",
       "⎢          ╱  2                    2             ╱  2                    2 ⎥\n",
       "⎢a   d   ╲╱  a  - 2⋅a⋅d + 4⋅b⋅c + d    a   d   ╲╱  a  - 2⋅a⋅d + 4⋅b⋅c + d  ⎥\n",
       "⎢─ + ─ - ────────────────────────────, ─ + ─ + ────────────────────────────⎥\n",
       "⎣2   2                2                2   2                2              ⎦"
      ]
     },
     "execution_count": 19,
     "metadata": {},
     "output_type": "execute_result"
    }
   ],
   "source": [
    "solve(bd,lmbd)"
   ]
  },
  {
   "cell_type": "markdown",
   "metadata": {},
   "source": [
    "## Numerically Computing Eigenvalues\n",
    "\n",
    ">There is no one best way to find the eigenvalues of a matrix. But there are cer- tainly some terrible ways, which should never be tried, and also some ideas that do deserve a permanent place. (Strang, p. 370)\n",
    "\n",
    "### [Computing Eigenvalues with numpy](https://docs.scipy.org/doc/numpy/reference/generated/numpy.linalg.eig.html)\n"
   ]
  },
  {
   "cell_type": "code",
   "execution_count": 20,
   "metadata": {},
   "outputs": [],
   "source": [
    "from numpy import linalg as LA\n",
    "import numpy as np"
   ]
  },
  {
   "cell_type": "code",
   "execution_count": 21,
   "metadata": {},
   "outputs": [],
   "source": [
    "w, v = LA.eig(np.diag((1, 2, 3)))"
   ]
  },
  {
   "cell_type": "code",
   "execution_count": 22,
   "metadata": {},
   "outputs": [
    {
     "data": {
      "text/plain": [
       "array([1., 2., 3.])"
      ]
     },
     "execution_count": 22,
     "metadata": {},
     "output_type": "execute_result"
    }
   ],
   "source": [
    "w"
   ]
  },
  {
   "cell_type": "code",
   "execution_count": 23,
   "metadata": {},
   "outputs": [
    {
     "data": {
      "text/plain": [
       "(array([[1., 0., 0.],\n",
       "        [0., 1., 0.],\n",
       "        [0., 0., 1.]]), array([1., 2., 3.]))"
      ]
     },
     "execution_count": 23,
     "metadata": {},
     "output_type": "execute_result"
    }
   ],
   "source": [
    "v,w"
   ]
  },
  {
   "cell_type": "markdown",
   "metadata": {},
   "source": [
    "#### Note: $v$ are columns"
   ]
  },
  {
   "cell_type": "code",
   "execution_count": 24,
   "metadata": {},
   "outputs": [],
   "source": [
    "w, v = LA.eig(np.array([[1, -1], [1, 1]]))"
   ]
  },
  {
   "cell_type": "code",
   "execution_count": 25,
   "metadata": {},
   "outputs": [
    {
     "data": {
      "text/plain": [
       "array([1.+1.j, 1.-1.j])"
      ]
     },
     "execution_count": 25,
     "metadata": {},
     "output_type": "execute_result"
    }
   ],
   "source": [
    "w"
   ]
  },
  {
   "cell_type": "code",
   "execution_count": null,
   "metadata": {},
   "outputs": [],
   "source": [
    "v"
   ]
  },
  {
   "cell_type": "code",
   "execution_count": null,
   "metadata": {},
   "outputs": [],
   "source": []
  }
 ],
 "metadata": {
  "kernelspec": {
   "display_name": "Python 3",
   "language": "python",
   "name": "python3"
  },
  "language_info": {
   "codemirror_mode": {
    "name": "ipython",
    "version": 3
   },
   "file_extension": ".py",
   "mimetype": "text/x-python",
   "name": "python",
   "nbconvert_exporter": "python",
   "pygments_lexer": "ipython3",
   "version": "3.6.5"
  }
 },
 "nbformat": 4,
 "nbformat_minor": 2
}
